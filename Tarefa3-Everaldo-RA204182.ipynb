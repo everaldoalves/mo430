{
 "cells": [
  {
   "cell_type": "markdown",
   "id": "64e6378f",
   "metadata": {},
   "source": [
    "<h1 style=\"background-color:aliceblue;\"> Tarefa 3 - Testes Estatísticos </h1>\n",
    "\n",
    "Professor: Sandro Rigo <br>\n",
    "Aluno: Everaldo Antonio Moreira Alves <br>\n",
    "**RA: 204183** <br>\n",
    "Data de entrega: 12 de dez. 23:59\n",
    "\n",
    "<h4 style=\"background-color:floralwhite;\"> A) O arquivo bp.csv contem dados sobre a pressão sanguínea (bp) e se a pessoa é ou não diabética (type) (diabetico é type = Yes). \n",
    "\n",
    "Use os seguintes testes e responda os itens abaixo:\n",
    "\n",
    "- Teste t\n",
    "\n",
    "- Wilcoxon rank sum\n",
    "\n",
    "1. Reporte o p-valor da comparação entre a pressão sangüínea de pessoas diabéticas ou não.\n",
    "\n",
    "2. Qual tem a maior pressão média? E maior pressão mediana?\n",
    "\n",
    "3. A diferença é significativa?\n",
    "\n",
    "Discuta a diferença dos p-valores. Quais dos 2 testes você acha mais apropriado nesse caso? </h4>"
   ]
  },
  {
   "cell_type": "code",
   "execution_count": 13,
   "id": "030c9ef5",
   "metadata": {},
   "outputs": [],
   "source": [
    "#Importando as bibliotecas necessárias\n",
    "import numpy as np\n",
    "import scipy.stats as stats\n",
    "import pandas as pd\n",
    "from math import sqrt"
   ]
  },
  {
   "cell_type": "code",
   "execution_count": 95,
   "id": "32ea1daa",
   "metadata": {},
   "outputs": [
    {
     "name": "stdout",
     "output_type": "stream",
     "text": [
      "\u001b[34m\u001b[00m\n",
      "1 -Reporte o p-valor da comparação entre a pressão sangüínea de pessoas diabéticas ou não.\n",
      "O p-valor é 0.003 no Teste T e 0.002 no teste de Wilcoxon\n",
      "Teste T\n",
      "Ttest_indResult(statistic=3.001495202122035, pvalue=0.0030323591864622732)\n",
      "Teste de Wilcoxon Rank Sum\n",
      "RanksumsResult(statistic=3.045797809294312, pvalue=0.0023206383267846886)\n",
      "========================================================================================================================\n",
      "2 - Qual tem a maior pressão média? E maior pressão mediana?\n",
      "Diabéticos: Média = 74.58823529411765 Mediana = 76.0\n",
      "Não diabéticos: Média = 69.54545454545455 Mediana = 70.0\n",
      "O grupo de diabéticos tem a maior média e a maior mediana de pressão.\n",
      "========================================================================================================================\n",
      "3 - A Diferença é significativa? \n",
      " Uma vez que, em ambos os casos, o P-valor é menor que 0.05, podemos considerar a diferença como significativa.\n"
     ]
    }
   ],
   "source": [
    "#Lendo o arquivo do dataset\n",
    "bp_df = pd.read_csv('bp.csv')\n",
    "\n",
    "diabeticos    = bp_df[bp_df['type'] == 'Yes']['bp']\n",
    "naoDiabeticos = bp_df[bp_df['type'] == 'No']['bp']\n",
    "print (\"\\033[34m\\033[00m\")\n",
    "print(\"1 -Reporte o p-valor da comparação entre a pressão sangüínea de pessoas diabéticas ou não.\")\n",
    "print (\"O p-valor é 0.003 no Teste T e 0.002 no teste de Wilcoxon\")\n",
    "print(\"Teste T\")\n",
    "tResult = stats.ttest_ind(diabeticos, naoDiabeticos)\n",
    "print(tResult)\n",
    "\n",
    "# P-Valor\n",
    "print(\"Teste de Wilcoxon Rank Sum\")\n",
    "wilcoxonResult = stats.ranksums(diabeticos, naoDiabeticos)\n",
    "print(wilcoxonResult)\n",
    "\n",
    "\n",
    "# Maior pressão média\n",
    "print(\"========================\"*5)\n",
    "print(\"2 - Qual tem a maior pressão média? E maior pressão mediana?\")\n",
    "print(f\"Diabéticos: Média = {diabeticos.mean()} Mediana = {diabetics.median()}\")\n",
    "print(f\"Não diabéticos: Média = {naoDiabeticos.mean()} Mediana = {non_diabetics.median()}\")\n",
    "print(\"O grupo de diabéticos tem a maior média e a maior mediana de pressão.\")\n",
    "print(\"========================\"*5)\n",
    "\n",
    "#Diferença é significativa?\n",
    "print(\"3 - A Diferença é significativa? \\n Uma vez que, em ambos os casos, o P-valor é menor que 0.05, podemos considerar a diferença como significativa.\")"
   ]
  },
  {
   "cell_type": "markdown",
   "id": "69024bb4",
   "metadata": {},
   "source": [
    "#### Discuta a diferença dos p-valores. Quais dos 2 testes você acha mais apropriado nesse caso?\n",
    " De acordo com o contido em https://www.datascienceblog.net/post/statistical_test/signed_wilcox_rank_test/, o teste T precisa de uma amostragem igual ou superior a 20 para uma correta aplicação. No caso em tela, este requisito é satisfeito tendo em vista que a amostra é de 200. Diante disso, podemos considerar o Teste T como mais apropriado para o caso."
   ]
  },
  {
   "cell_type": "markdown",
   "id": "90f0a643",
   "metadata": {},
   "source": [
    "<h4 style=\"background-color:floralwhite;\"> B) O arquivo paired.csv contém dados sobre duas medições: em Agosto e em Novembro em 13 lugares diferentes.\n",
    "\n",
    "Use os seguintes testes e responda os itens abaixo:\n",
    "- Test t pareado\n",
    "\n",
    "- Wilcoxon signed rank.\n",
    "\n",
    "1. Qual o mês com maior média e maior mediana?\n",
    "\n",
    "2. A diferença é significativa?\n",
    "\n",
    "3. Discuta a diferença dos p-valores. Quais dos 2 testes você acha mais apropriado nesse caso?\n",
    "</h4>\n"
   ]
  },
  {
   "cell_type": "code",
   "execution_count": 94,
   "id": "be9239da",
   "metadata": {},
   "outputs": [
    {
     "name": "stdout",
     "output_type": "stream",
     "text": [
      "             Clone  August  November\n",
      "0     Balsam_Spire     8.1      11.2\n",
      "1          Beaupre    10.0      16.3\n",
      "2        Hazendans    16.5      15.3\n",
      "3        Hoogvorst    13.6      15.6\n",
      "4         Raspalje     9.5      10.5\n",
      "5             Unal     8.3      15.5\n",
      "6   Columbia_River    18.3      12.7\n",
      "7    Fritzi_Pauley    13.3      11.1\n",
      "8        Trichobel     7.9      19.9\n",
      "9            Gaver     8.1      20.4\n",
      "10          Gibecq     8.9      14.2\n",
      "11           Primo    12.6      12.7\n",
      "12       Wolterson    13.4      36.8\n",
      "\n",
      "Agosto: Média = 11.423076923076925 ; Mediana = 10.0\n",
      "Novembro: Média = 16.323076923076922 ; Mediana = 15.3\n",
      "\n",
      "1 - Qual o mês com maior média e maior mediana?\n",
      "O mês com maior média e maior mediana é Novembro\n"
     ]
    }
   ],
   "source": [
    "### Lendo o arquivo do dataset\n",
    "paired_df = pd.read_csv('paired.csv')\n",
    "\n",
    "# Exibindo o dataset\n",
    "print(paired_df)\n",
    "\n",
    "# Mês com maior média e maior mediana\n",
    "print(f\"\\nAgosto: Média = {paired_df['August'].mean()} ; Mediana = {paired_df['August'].median()}\")\n",
    "print(f\"Novembro: Média = {paired_df['November'].mean()} ; Mediana = {paired_df['November'].median()}\")\n",
    "print(\"\\n1 - Qual o mês com maior média e maior mediana?\")\n",
    "print(\"O mês com maior média e maior mediana é Novembro\")"
   ]
  },
  {
   "cell_type": "code",
   "execution_count": 80,
   "id": "bd51df85",
   "metadata": {},
   "outputs": [
    {
     "name": "stdout",
     "output_type": "stream",
     "text": [
      "Student T-Test pareado\n",
      "Ttest_relResult(statistic=-2.3088956550760438, pvalue=0.03955525086687241)\n",
      "\n",
      "Teste de Wilcoxon signed rank\n",
      "WilcoxonResult(statistic=16.0, pvalue=0.039794921875)\n",
      "\n",
      "2 - A diferença é significativa?\n",
      "Sim, pois ambos os testes informaram p-valor menor que 0.05.\n"
     ]
    }
   ],
   "source": [
    "print(\"Student T-Test pareado\")\n",
    "tTeste = stats.ttest_rel(paired_df['August'], paired_df['November'])\n",
    "print(tTeste)\n",
    "print(\"\\nTeste de Wilcoxon signed rank\")\n",
    "wilcoxon = stats.wilcoxon(paired_df['August'], paired_df['November'])\n",
    "print(wilcoxon)\n",
    "print (\"\\nA diferença é significativa?\")\n",
    "print(\"Sim, pois ambos os testes informaram p-valor menor que 0.05.\")"
   ]
  },
  {
   "cell_type": "markdown",
   "id": "b0e6ced3",
   "metadata": {},
   "source": [
    "    3 - Discuta a diferença dos p-valores. Quais dos 2 testes você acha mais apropriado nesse caso?\n",
    "    Uma vez que a amostragem é pequena, os testes não paramétricos se mostram mais apropriados. Dessa forma, o Wilcoxon é mais confiável que Teste T de Student no contexto avaliado.\n"
   ]
  },
  {
   "cell_type": "markdown",
   "id": "406ecdef",
   "metadata": {},
   "source": [
    "<h4 style=\"background-color:floralwhite;\"> \n",
    "C) Use os dados (não pareados) do dataset bp.csv <br>\n",
    "Gere o intervalo de confiança para a pressão sangüínea dos pacientes com diabetes e sem diabetes (intervalo de 95% de confiança) usando o método de bootstrap \n",
    "</h4>"
   ]
  },
  {
   "cell_type": "code",
   "execution_count": 84,
   "id": "47ac1684",
   "metadata": {},
   "outputs": [
    {
     "name": "stdout",
     "output_type": "stream",
     "text": [
      "Intervalo de Confiança da pressão dos diabéticos: ConfidenceInterval(low=71.77941176470588, high=77.29411764705883).\n",
      "Intervalo de Confiança da pressão dos não diabéticos: ConfidenceInterval(low=67.6590909090909, high=71.47727272727273).\n"
     ]
    }
   ],
   "source": [
    "bp_diabeticos = (diabeticos,)\n",
    "bootstrap_ci = stats.bootstrap(bp_diabeticos, np.mean, confidence_level=0.95, random_state=1, method='BCa')\n",
    "print(f\"Intervalo de Confiança da pressão dos diabéticos: {bootstrap_ci.confidence_interval}.\")\n",
    "bp_naoDiabeticos = (naoDiabeticos,)\n",
    "bootstrap_ci = stats.bootstrap(bp_naoDiabeticos, np.mean, confidence_level=0.95, random_state=1, method='BCa')\n",
    "print(f\"Intervalo de Confiança da pressão dos não diabéticos: {bootstrap_ci.confidence_interval}.\")"
   ]
  },
  {
   "cell_type": "markdown",
   "id": "df449de3",
   "metadata": {},
   "source": [
    "<h4 style=\"background-color:floralwhite;\">  D) Teste Visual:  Há intersecção entre os intervalos de confiança dos 2 conjuntos de dados acima (com diabetes e sem diabetes)? Isso está de acordo com o teste de diferença significativa entre eles feito na questão 1?</h4>"
   ]
  },
  {
   "cell_type": "markdown",
   "id": "5e7158c5",
   "metadata": {},
   "source": [
    "O teto do intervalo dos não diabéticos é 71.47, enquanto o piso do intervalo dos diabéticos é 71.77. Dessa forma, conclui-se que <b>não há </b> interseccão entre os intervalos.\n",
    "Está de acordo haja vista que os intervalos de confiança não apresentam interseção."
   ]
  },
  {
   "cell_type": "markdown",
   "id": "f75fd2f6",
   "metadata": {},
   "source": [
    "<h4 style=\"background-color:floralwhite;\">  E) Calcule o Cohen D com o pooled standard deviation para a diferença entre a pressão sangüínea de pacientes com e sem diabetes. </h4>"
   ]
  },
  {
   "cell_type": "code",
   "execution_count": 93,
   "id": "ac85e4b8",
   "metadata": {},
   "outputs": [
    {
     "name": "stdout",
     "output_type": "stream",
     "text": [
      "Cohens'D: 0.448\n"
     ]
    }
   ],
   "source": [
    "def cohend(d1, d2):\n",
    "\t# calculate the size of samples\n",
    "\tn1, n2 = len(d1), len(d2)\n",
    "\t# calculate the variance of the samples\n",
    "\ts1, s2 = np.var(d1, ddof=1), np.var(d2, ddof=1)\n",
    "\t# calculate the pooled standard deviation\n",
    "\ts = sqrt(((n1 - 1) * s1 + (n2 - 1) * s2) / (n1 + n2 - 2))\n",
    "\t# calculate the means of the samples\n",
    "\tu1, u2 = np.mean(d1), np.mean(d2)\n",
    "\t# calculate the effect size\n",
    "\treturn (u1 - u2) / s\n",
    "    \n",
    "d = cohend(diabeticos, naoDiabeticos)\n",
    "print(f\"Cohens'D: {d:.3f}\")\n"
   ]
  },
  {
   "cell_type": "markdown",
   "id": "391e2eaa",
   "metadata": {},
   "source": [
    "<h4 style=\"background-color:floralwhite;\">  F) Com base nos testes, intervalos de confiança, etc realizados acima sobre o dataset bp.csv, qual a sua conclusão sobre pressão arterial em pacientes com ou sem diabetes?\n",
    "</h4>"
   ]
  },
  {
   "cell_type": "markdown",
   "id": "f3bb5068",
   "metadata": {},
   "source": [
    "A média da pressão arterial dos diabéticos é maior que a dos não diabéticos e seus intervalos de confiança não apresentam interseção. Conclui-se que a diabetes está associada ao aumento da pressão arterial."
   ]
  }
 ],
 "metadata": {
  "kernelspec": {
   "display_name": "Python 3 (ipykernel)",
   "language": "python",
   "name": "python3"
  },
  "language_info": {
   "codemirror_mode": {
    "name": "ipython",
    "version": 3
   },
   "file_extension": ".py",
   "mimetype": "text/x-python",
   "name": "python",
   "nbconvert_exporter": "python",
   "pygments_lexer": "ipython3",
   "version": "3.10.6"
  }
 },
 "nbformat": 4,
 "nbformat_minor": 5
}
